{
 "cells": [
  {
   "cell_type": "code",
   "execution_count": 1,
   "metadata": {},
   "outputs": [],
   "source": [
    "from tkinter import *\n",
    "from datetime import date"
   ]
  },
  {
   "cell_type": "code",
   "execution_count": 2,
   "metadata": {},
   "outputs": [],
   "source": [
    "# making a tkinter application window with the name root\n",
    "root = Tk()"
   ]
  },
  {
   "cell_type": "code",
   "execution_count": 3,
   "metadata": {},
   "outputs": [
    {
     "data": {
      "text/plain": [
       "''"
      ]
     },
     "execution_count": 3,
     "metadata": {},
     "output_type": "execute_result"
    }
   ],
   "source": [
    "root.geometry('300x300')"
   ]
  },
  {
   "cell_type": "code",
   "execution_count": 4,
   "metadata": {},
   "outputs": [
    {
     "data": {
      "text/plain": [
       "''"
      ]
     },
     "execution_count": 4,
     "metadata": {},
     "output_type": "execute_result"
    }
   ],
   "source": [
    "root.resizable(0,0)"
   ]
  },
  {
   "cell_type": "code",
   "execution_count": 5,
   "metadata": {},
   "outputs": [
    {
     "data": {
      "text/plain": [
       "''"
      ]
     },
     "execution_count": 5,
     "metadata": {},
     "output_type": "execute_result"
    }
   ],
   "source": [
    "root.title('Age Calculator')"
   ]
  },
  {
   "cell_type": "code",
   "execution_count": 6,
   "metadata": {},
   "outputs": [],
   "source": [
    "statement = Label(root)"
   ]
  },
  {
   "cell_type": "code",
   "execution_count": 7,
   "metadata": {},
   "outputs": [],
   "source": [
    "# Creating a Label for a person's name\n",
    "l1 = Label(text = 'Name: ')\n",
    "l1.grid(row = 1, column = 0)\n",
    "name = StringVar()"
   ]
  },
  {
   "cell_type": "code",
   "execution_count": 8,
   "metadata": {},
   "outputs": [],
   "source": [
    "# Creating entry box for name input\n",
    "nameEntry = Entry(root, textvariable = name)\n",
    "nameEntry.grid(row = 1, column = 1, padx = 10, pady = 10)"
   ]
  },
  {
   "cell_type": "code",
   "execution_count": 9,
   "metadata": {},
   "outputs": [],
   "source": [
    "# Label for year in which user is born\n",
    "l2 = Label(text = 'Year: ')\n",
    "l2.grid(row = 2, column = 0)\n",
    "year = StringVar()"
   ]
  },
  {
   "cell_type": "code",
   "execution_count": 10,
   "metadata": {},
   "outputs": [],
   "source": [
    "# Creating entry box for year input\n",
    "yearEntry = Entry(root, textvariable = year)\n",
    "yearEntry.grid(row = 2 , column = 1, padx = 10, pady = 10)"
   ]
  },
  {
   "cell_type": "code",
   "execution_count": 11,
   "metadata": {},
   "outputs": [],
   "source": [
    "# label for month in which the user is born\n",
    "l3 = Label(text = 'Month: ')\n",
    "l3.grid(row = 3, column = 0)"
   ]
  },
  {
   "cell_type": "code",
   "execution_count": 12,
   "metadata": {},
   "outputs": [],
   "source": [
    "month = StringVar()"
   ]
  },
  {
   "cell_type": "code",
   "execution_count": 13,
   "metadata": {},
   "outputs": [],
   "source": [
    "# Creating Entry box for the month input\n",
    "monthEntry = Entry(root, textvariable = month)\n",
    "monthEntry.grid(row = 3, column = 1, padx = 10, pady = 10 )"
   ]
  },
  {
   "cell_type": "code",
   "execution_count": 14,
   "metadata": {},
   "outputs": [],
   "source": [
    "# Label for the day in which user is born\n",
    "l4 = Label(text = 'Day: ')\n",
    "l4.grid(row = 4, column = 0 )"
   ]
  },
  {
   "cell_type": "code",
   "execution_count": 15,
   "metadata": {},
   "outputs": [],
   "source": [
    "day = StringVar()"
   ]
  },
  {
   "cell_type": "code",
   "execution_count": 16,
   "metadata": {},
   "outputs": [],
   "source": [
    "# Creating a EntryBox for the day input\n",
    "dayEntry = Entry(root, textvariable = day)\n",
    "dayEntry.grid(row = 4, column = 1, padx = 10, pady = 10)"
   ]
  },
  {
   "cell_type": "code",
   "execution_count": 17,
   "metadata": {},
   "outputs": [],
   "source": [
    "# Function for Age Calculation\n",
    "def ageCal():\n",
    "  global statement\n",
    "  statement.destroy()\n",
    "  today = date.today()\n",
    "  birthDate = date(int(yearEntry.get()), int(monthEntry.get()), int(dayEntry.get()))\n",
    "  age = today.year - birthDate.year\n",
    "  if today.month < birthDate.month or today.month == birthDate.month and today.day < birthDate.day:\n",
    "    age -= 1\n",
    "  statement = Label(text = f\"{name.get()}'s age is {age}.\")\n",
    "  statement.grid(row = 6, column = 1, pady = 15)"
   ]
  },
  {
   "cell_type": "code",
   "execution_count": 18,
   "metadata": {},
   "outputs": [],
   "source": [
    "button = Button(text = 'Calculate Age', command = ageCal)\n",
    "button.grid(row = 5, column = 1)"
   ]
  },
  {
   "cell_type": "code",
   "execution_count": 19,
   "metadata": {},
   "outputs": [],
   "source": [
    "root.mainloop()"
   ]
  },
  {
   "cell_type": "code",
   "execution_count": null,
   "metadata": {},
   "outputs": [],
   "source": []
  }
 ],
 "metadata": {
  "kernelspec": {
   "display_name": "Python 3",
   "language": "python",
   "name": "python3"
  },
  "language_info": {
   "codemirror_mode": {
    "name": "ipython",
    "version": 3
   },
   "file_extension": ".py",
   "mimetype": "text/x-python",
   "name": "python",
   "nbconvert_exporter": "python",
   "pygments_lexer": "ipython3",
   "version": "3.12.2"
  }
 },
 "nbformat": 4,
 "nbformat_minor": 2
}
